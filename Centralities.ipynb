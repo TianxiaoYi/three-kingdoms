{
 "cells": [
  {
   "cell_type": "markdown",
   "metadata": {},
   "source": [
    "# Provide the files' names"
   ]
  },
  {
   "cell_type": "code",
   "execution_count": null,
   "metadata": {},
   "outputs": [],
   "source": [
    "inputfile = ''\n",
    "\n",
    "figfile_centr = 'centr.png'\n",
    "figfile_distr = 'distr.png'"
   ]
  },
  {
   "cell_type": "markdown",
   "metadata": {},
   "source": [
    "# Load the network"
   ]
  },
  {
   "cell_type": "code",
   "execution_count": null,
   "metadata": {},
   "outputs": [],
   "source": [
    "import networkx as nx\n",
    "\n",
    "G = nx.read_gexf(inputfile)"
   ]
  },
  {
   "cell_type": "markdown",
   "metadata": {},
   "source": [
    "# Calculate the centralities"
   ]
  },
  {
   "cell_type": "code",
   "execution_count": null,
   "metadata": {},
   "outputs": [],
   "source": [
    "import pandas as pd\n",
    "\n",
    "def calc_centralities(graph):\n",
    "    \n",
    "    dgc = nx.degree_centrality(graph)\n",
    "    dgc = pd.DataFrame.from_dict(dgc, orient='index', columns=[\"DGC\"])\n",
    "    btc = nx.betweenness_centrality(graph)\n",
    "    btc = pd.DataFrame.from_dict(btc, orient='index', columns=[\"BTC\"])\n",
    "    evc = nx.eigenvector_centrality(graph, weight='weight')\n",
    "    evc = pd.DataFrame.from_dict(evc, orient='index', columns=[\"EVC\"])\n",
    "\n",
    "    df = pd.concat([dgc, btc, evc], axis=1)\n",
    "    \n",
    "    return df\n",
    "\n",
    "df = calc_centralities(G)"
   ]
  },
  {
   "cell_type": "markdown",
   "metadata": {},
   "source": [
    "# Create the centralities plot"
   ]
  },
  {
   "cell_type": "code",
   "execution_count": null,
   "metadata": {},
   "outputs": [],
   "source": [
    "import matplotlib.pyplot as plt\n",
    "\n",
    "def plot_centrality(centr, df, title, n, col_list):\n",
    "    \n",
    "    ax = plt.subplot(1, 3, n)\n",
    "    s = df.sort_values(centr, ascending=False)[:10]\n",
    "    x = list(s[centr].index)[::-1]\n",
    "    y = list(s[centr])[::-1]\n",
    "    \n",
    "    for i, v in enumerate(y):\n",
    "        bars = plt.barh(x[i], v, color=col_list[n-1])\n",
    "    \n",
    "    plt.title(title, size=22)\n",
    "    ax.get_xaxis().set_visible(False)\n",
    "    ax.spines['top'].set_visible(False)\n",
    "    ax.spines['bottom'].set_visible(False)\n",
    "    ax.spines['right'].set_visible(False)\n",
    "    ax.spines['left'].set_visible(False)\n",
    "    ax.tick_params(axis='y', length = 0, labelsize=14)\n",
    "\n",
    "\n",
    "col_list = [\"peachpuff\", \"plum\", \"orange\"]\n",
    "fig, ax = plt.subplots(1,3, figsize=(15, 10))\n",
    "plot_centrality(\"DGC\", df, 'Degree Centrality', 1, col_list)\n",
    "plot_centrality(\"BTC\", df, 'Betweeness Centrality', 2, col_list)\n",
    "plot_centrality(\"EVC\", df, 'Eigenvector Centrality', 3, col_list)\n",
    "\n",
    "plt.savefig(figfile_centr, dpi=300)"
   ]
  },
  {
   "cell_type": "markdown",
   "metadata": {},
   "source": [
    "# Create the interactions distribution plot"
   ]
  },
  {
   "cell_type": "code",
   "execution_count": null,
   "metadata": {},
   "outputs": [],
   "source": [
    "import seaborn as sns\n",
    "\n",
    "fig, ax = plt.subplots(figsize=(15, 10))\n",
    "\n",
    "edge_df = nx.to_pandas_edgelist(G)\n",
    "s = edge_df[\"weight\"]*100\n",
    "\n",
    "ax = sns.distplot(s)\n",
    "plt.savefig(figfile_distr, dpi=300)"
   ]
  }
 ],
 "metadata": {
  "kernelspec": {
   "display_name": "Python 3",
   "language": "python",
   "name": "python3"
  },
  "language_info": {
   "codemirror_mode": {
    "name": "ipython",
    "version": 3
   },
   "file_extension": ".py",
   "mimetype": "text/x-python",
   "name": "python",
   "nbconvert_exporter": "python",
   "pygments_lexer": "ipython3",
   "version": "3.7.4"
  }
 },
 "nbformat": 4,
 "nbformat_minor": 2
}
